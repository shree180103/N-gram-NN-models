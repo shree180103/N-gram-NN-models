{
 "cells": [
  {
   "cell_type": "code",
   "execution_count": 205,
   "id": "e23a1440-d95e-4d32-b08d-6a2971534518",
   "metadata": {},
   "outputs": [],
   "source": [
    "import torch\n",
    "from torch import nn\n",
    "from torch.utils.data import DataLoader\n",
    "import torchvision\n",
    "from torchvision import datasets\n",
    "from torchvision.transforms import ToTensor\n",
    "import torchvision.datasets as datasets\n",
    "import torchvision.transforms as transforms\n",
    "import random\n",
    "import numpy as np\n",
    "from PIL import Image\n",
    "import pandas as pd\n",
    "import os \n",
    "import matplotlib.pyplot as plt\n",
    "import math\n",
    "import random\n",
    "import sklearn"
   ]
  },
  {
   "cell_type": "code",
   "execution_count": 18,
   "id": "18047adf-25c7-4733-82b1-d919c6021dbc",
   "metadata": {},
   "outputs": [],
   "source": [
    "device = torch.device(\"cuda:0\" if torch.cuda.is_available() else \"cpu\")"
   ]
  },
  {
   "cell_type": "code",
   "execution_count": 2,
   "id": "c04b5b01-3143-429e-b486-de20e1c3fb7d",
   "metadata": {},
   "outputs": [],
   "source": [
    "words=open('names.txt').read().splitlines()"
   ]
  },
  {
   "cell_type": "code",
   "execution_count": 3,
   "id": "208a3f52-5831-4e76-aba2-d7bdf0848ed5",
   "metadata": {},
   "outputs": [
    {
     "data": {
      "text/plain": [
       "['emma',\n",
       " 'olivia',\n",
       " 'ava',\n",
       " 'isabella',\n",
       " 'sophia',\n",
       " 'charlotte',\n",
       " 'mia',\n",
       " 'amelia',\n",
       " 'harper',\n",
       " 'evelyn']"
      ]
     },
     "execution_count": 3,
     "metadata": {},
     "output_type": "execute_result"
    }
   ],
   "source": [
    "words[:10]"
   ]
  },
  {
   "cell_type": "code",
   "execution_count": 5,
   "id": "e52e10bc-d12c-44c6-b734-9b1e783b7fd7",
   "metadata": {},
   "outputs": [
    {
     "name": "stdout",
     "output_type": "stream",
     "text": [
      "<S> e m\n",
      "e m m\n",
      "m m a\n",
      "m a <E>\n"
     ]
    }
   ],
   "source": [
    "for w in words[:1]:\n",
    "    chs=['<S>']+list(w)+['<E>']\n",
    "    for ch1,ch2,ch3 in zip(chs,chs[1:],chs[2:]):\n",
    "        print(ch1,ch2,ch3)\n",
    "        "
   ]
  },
  {
   "cell_type": "code",
   "execution_count": 6,
   "id": "00f178e0-a4c7-401d-9fe0-d91d02667eef",
   "metadata": {},
   "outputs": [],
   "source": [
    "b={}\n",
    "for w in words:\n",
    "    chs=['<S>']+list(w)+['<E>']\n",
    "    for ch1,ch2,ch3 in zip(chs,chs[1:],chs[2:]):\n",
    "        # print(chs,chs[1:],chs[2:])\n",
    "        bigram=(ch1,ch2,ch3)\n",
    "        b[bigram]=b.get(bigram,0)+1"
   ]
  },
  {
   "cell_type": "code",
   "execution_count": 7,
   "id": "de654f79-af9b-4d5a-a1e3-1d20ebe5ed26",
   "metadata": {},
   "outputs": [],
   "source": [
    "chars=sorted(list(set(''.join(words))))"
   ]
  },
  {
   "cell_type": "code",
   "execution_count": 8,
   "id": "5993ff55-dc0d-43be-bfc6-2d83137deb8b",
   "metadata": {},
   "outputs": [
    {
     "data": {
      "text/plain": [
       "{'a': 1,\n",
       " 'b': 2,\n",
       " 'c': 3,\n",
       " 'd': 4,\n",
       " 'e': 5,\n",
       " 'f': 6,\n",
       " 'g': 7,\n",
       " 'h': 8,\n",
       " 'i': 9,\n",
       " 'j': 10,\n",
       " 'k': 11,\n",
       " 'l': 12,\n",
       " 'm': 13,\n",
       " 'n': 14,\n",
       " 'o': 15,\n",
       " 'p': 16,\n",
       " 'q': 17,\n",
       " 'r': 18,\n",
       " 's': 19,\n",
       " 't': 20,\n",
       " 'u': 21,\n",
       " 'v': 22,\n",
       " 'w': 23,\n",
       " 'x': 24,\n",
       " 'y': 25,\n",
       " 'z': 26,\n",
       " '.': 0}"
      ]
     },
     "execution_count": 8,
     "metadata": {},
     "output_type": "execute_result"
    }
   ],
   "source": [
    "s_to_i={s:i+1 for i,s in enumerate(chars)}\n",
    "s_to_i['.']=0\n",
    "\n",
    "s_to_i"
   ]
  },
  {
   "cell_type": "code",
   "execution_count": 169,
   "id": "b2d51d4b-cc0a-447b-b9f3-554aced9cb77",
   "metadata": {},
   "outputs": [],
   "source": [
    "x=[]\n",
    "y=[]\n",
    "\n",
    "for w in words:\n",
    "    chs=['.']+list(w)+['.']\n",
    "    for ch1,ch2,ch3 in zip(chs,chs[1:],chs[2:]):\n",
    "        ix1=s_to_i[ch1]\n",
    "        ix2=s_to_i[ch2]\n",
    "        ix3=s_to_i[ch3]\n",
    "        x.append([ix1,ix2])\n",
    "        y.append(ix3)\n",
    " \n",
    "x=torch.tensor(x,dtype=torch.int64).to(device)\n",
    "y=torch.tensor(y,dtype=torch.int64).to(device)"
   ]
  },
  {
   "cell_type": "code",
   "execution_count": 170,
   "id": "fe5a9414-c0b0-4b15-8941-4cd63c0a98dc",
   "metadata": {},
   "outputs": [],
   "source": [
    "import torch.nn.functional as F\n",
    "xenc=F.one_hot(x,num_classes=27).float().to(device)"
   ]
  },
  {
   "cell_type": "code",
   "execution_count": 171,
   "id": "177461b4-f352-428d-861c-42561dd49c2c",
   "metadata": {},
   "outputs": [],
   "source": [
    "g=torch.Generator().manual_seed(2147483647)"
   ]
  },
  {
   "cell_type": "code",
   "execution_count": 172,
   "id": "91bb3bb3-0ddb-4743-80f7-9a91cedb5c68",
   "metadata": {},
   "outputs": [
    {
     "data": {
      "text/plain": [
       "torch.Size([196113, 54])"
      ]
     },
     "execution_count": 172,
     "metadata": {},
     "output_type": "execute_result"
    }
   ],
   "source": [
    "w=torch.randn((27*2,27),requires_grad=True,device=device)\n",
    "xenc=xenc.reshape(-1,2*27).to(device)\n",
    "xenc.shape"
   ]
  },
  {
   "cell_type": "code",
   "execution_count": 177,
   "id": "1d7793c8-cfaa-4a6c-b3f5-f126946354cd",
   "metadata": {},
   "outputs": [
    {
     "name": "stdout",
     "output_type": "stream",
     "text": [
      "torch.Size([196113, 27])\n"
     ]
    },
    {
     "data": {
      "text/plain": [
       "tensor(3.0766, device='cuda:0', grad_fn=<NegBackward0>)"
      ]
     },
     "execution_count": 177,
     "metadata": {},
     "output_type": "execute_result"
    }
   ],
   "source": [
    "logits = xenc @ w\n",
    "print(logits.shape)\n",
    "counts = torch.exp(logits)\n",
    "probs = counts / counts.sum(dim = 1, keepdim = True)\n",
    "loss = - probs[torch.arange(len(x)), y].log().mean()\n",
    "loss"
   ]
  },
  {
   "cell_type": "code",
   "execution_count": 176,
   "id": "4ee9c408-a684-4035-8b63-84b7bcd13b61",
   "metadata": {},
   "outputs": [],
   "source": [
    "w.grad=None #zero_grad\n",
    "loss.backward()\n",
    "\n",
    "w.data-=50*w.grad"
   ]
  },
  {
   "cell_type": "code",
   "execution_count": 179,
   "id": "c0e5a076-ba1a-4027-95ad-5555c6752256",
   "metadata": {},
   "outputs": [],
   "source": [
    "#pipeline \n",
    "x=[]\n",
    "y=[]\n",
    "\n",
    "for w in words:\n",
    "    chs=['.']+list(w)+['.']\n",
    "    for ch1,ch2,ch3 in zip(chs,chs[1:],chs[2:]):\n",
    "        ix1=s_to_i[ch1]\n",
    "        ix2=s_to_i[ch2]\n",
    "        ix3=s_to_i[ch3]\n",
    "        x.append([ix1,ix2])\n",
    "        y.append(ix3)\n",
    " \n",
    "x=torch.tensor(x).to(device)\n",
    "y=torch.tensor(y).to(device)\n",
    "w=torch.randn((27*2,27),requires_grad=True,device=device)"
   ]
  },
  {
   "cell_type": "code",
   "execution_count": 202,
   "id": "9564a9f4-fed8-45c3-bbf3-14c2f67b3bd4",
   "metadata": {},
   "outputs": [
    {
     "name": "stdout",
     "output_type": "stream",
     "text": [
      "2.237687110900879\n",
      "2.237675905227661\n",
      "2.2376649379730225\n",
      "2.237654447555542\n",
      "2.2376437187194824\n",
      "2.237633228302002\n",
      "2.2376229763031006\n",
      "2.237612724304199\n",
      "2.237602949142456\n",
      "2.237593173980713\n",
      "2.2375833988189697\n",
      "2.2375738620758057\n",
      "2.2375645637512207\n",
      "2.2375552654266357\n",
      "2.23754620552063\n",
      "2.237537145614624\n",
      "2.2375285625457764\n",
      "2.2375199794769287\n",
      "2.237511396408081\n",
      "2.2375028133392334\n",
      "2.237494468688965\n",
      "2.2374861240386963\n",
      "2.237478256225586\n",
      "2.2374701499938965\n",
      "2.237462282180786\n",
      "2.237454414367676\n",
      "2.2374467849731445\n",
      "2.2374396324157715\n",
      "2.2374320030212402\n",
      "2.237424612045288\n"
     ]
    }
   ],
   "source": [
    "for i in range(300):\n",
    "    xenc=F.one_hot(x,num_classes=27).float().to(device)\n",
    "    xenc=xenc.reshape(-1,2*27).to(device)\n",
    "    logits= xenc @ w\n",
    "    counts = torch.exp(logits)\n",
    "    probs = counts / counts.sum(dim = 1, keepdim = True)\n",
    "    loss = - probs[torch.arange(len(x)), y].log().mean()\n",
    "    #  # add regularization\n",
    "    # loss += 0.2 * W.pow(2).mean()\n",
    "    if i%10==0:\n",
    "        print(loss.item())\n",
    "    w.grad=None\n",
    "    loss.backward()\n",
    "    w.data+=-50*w.grad\n",
    "    \n",
    "    "
   ]
  },
  {
   "cell_type": "code",
   "execution_count": 203,
   "id": "6e572152-d4a1-461b-9660-a6831cfe77a0",
   "metadata": {},
   "outputs": [
    {
     "name": "stdout",
     "output_type": "stream",
     "text": [
      "lanton.\n",
      "elyn.\n",
      "bran.\n",
      "jlana.\n",
      "ynyes.\n",
      "sam.\n",
      "mana.\n",
      "nabera.\n",
      "lalin.\n",
      "zersisliy.\n"
     ]
    }
   ],
   "source": [
    "names = []\n",
    "i_to_s={i:s for s,i in s_to_i.items()}\n",
    "for i in range(10):\n",
    "    out = []\n",
    "    idx1, idx2 = 0, 0\n",
    "    while True:\n",
    "\n",
    "        # now we use the softmax of the logits\n",
    "        xenc = F.one_hot(torch.tensor([idx1, idx2]).to(device), num_classes = 27).float().to(device)\n",
    "        xenc = xenc.view(-1, 27*2)\n",
    "        # print(xenc.shape)\n",
    "        logits = xenc @ w\n",
    "        counts = torch.exp(logits)\n",
    "        p = counts / counts.sum(dim = 1, keepdim = True)\n",
    "\n",
    "        idx1 = idx2\n",
    "        idx2 = torch.multinomial(p.to(device), num_samples = 1 , replacement = True).item()\n",
    "        out.append(i_to_s[idx2])\n",
    "        if idx2 == 0:\n",
    "            break\n",
    "\n",
    "    names.append(\"\".join(out))\n",
    "    \n",
    "for name in names:\n",
    "    print(name)"
   ]
  }
 ],
 "metadata": {
  "kernelspec": {
   "display_name": "Python 3 (ipykernel)",
   "language": "python",
   "name": "python3"
  },
  "language_info": {
   "codemirror_mode": {
    "name": "ipython",
    "version": 3
   },
   "file_extension": ".py",
   "mimetype": "text/x-python",
   "name": "python",
   "nbconvert_exporter": "python",
   "pygments_lexer": "ipython3",
   "version": "3.12.7"
  }
 },
 "nbformat": 4,
 "nbformat_minor": 5
}
